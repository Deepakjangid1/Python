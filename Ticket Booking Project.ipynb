{
 "cells": [
  {
   "cell_type": "code",
   "execution_count": null,
   "id": "553e8c04-a403-45fe-a5dd-cece831acb0c",
   "metadata": {},
   "outputs": [
    {
     "name": "stdout",
     "output_type": "stream",
     "text": [
      "         WTP Cinepolice,Jaipur \n",
      "----------------------------------------\n",
      "Normal Seat = 200,   Recliner Seat = 400\n"
     ]
    }
   ],
   "source": [
    "#Ticket Booking System\n",
    "print(\"         WTP Cinepolice,Jaipur \")\n",
    "print(\"-\"*40)\n",
    "normal_seat = 100\n",
    "recliner_seat = 20\n",
    "while True:\n",
    "    print(\"Normal Seat = 200,   Recliner Seat = 400\")    \n",
    "    name = input (\"Customer Name:\")\n",
    "    seat_type = input(\"Please Select seat normal, recliner:\")\n",
    "    \n",
    "    if seat_type == \"normal\":\n",
    "        seats = int(input(\"How many seats do you want to book? \"))\n",
    "        if seats <= normal_seat:\n",
    "            normal_seat -= seats\n",
    "            total = seats*200\n",
    "        else:\n",
    "            print(\"No ticket available For Normal Seat\")\n",
    "            print(\"Sorry, We have\", normal_seat, \"seats left in Normal\")\n",
    "            continue\n",
    "\n",
    "\n",
    "    elif seat_type == \"recliner\":\n",
    "        seats = int(input(\"How many seats do you want to book? \"))\n",
    "        if seats <= recliner_seat:\n",
    "            recliner_seat -= seats\n",
    "            total = seats*400\n",
    "        else:\n",
    "            print(\"No ticket available For Recliner\")\n",
    "            print(\"Sorry! We have\", recliner_seat, \"seats left in Recliner\")\n",
    "            continue\n",
    "        \n",
    "    combo = input(\"Want to add combo of Cold drink and Popcorn of Rs. 150? (yes/no): \")\n",
    "\n",
    "    if combo == \"yes\":\n",
    "        quantity = int(input(\"How much combo do you want to add? \"))\n",
    "        combo_price = quantity*150\n",
    "        total = total+combo_price\n",
    "        print(\"-\"*40)\n",
    "        print(name, \"Your Total amount is =\",total)\n",
    "        print(\"-\"*40)\n",
    "    else:\n",
    "        print(\"-\"*40)\n",
    "        print(name, \"Your Total amount is =\", total)\n",
    "        print(\"-\"*40)\n",
    "\n",
    "\n",
    "    repeat = input(\"Go to next person? (yes/no): \")\n",
    "    print(\"Normal starts Remaning:\",normal_seat) \n",
    "    print(\"Recliner seats remaining: \", recliner_seat)\n",
    "    if repeat == \"no\":\n",
    "        break     "
   ]
  },
  {
   "cell_type": "code",
   "execution_count": null,
   "id": "97cecd75-f625-4c46-b872-de3aff09d4d5",
   "metadata": {},
   "outputs": [],
   "source": []
  }
 ],
 "metadata": {
  "kernelspec": {
   "display_name": "Python 3 (ipykernel)",
   "language": "python",
   "name": "python3"
  },
  "language_info": {
   "codemirror_mode": {
    "name": "ipython",
    "version": 3
   },
   "file_extension": ".py",
   "mimetype": "text/x-python",
   "name": "python",
   "nbconvert_exporter": "python",
   "pygments_lexer": "ipython3",
   "version": "3.11.6"
  }
 },
 "nbformat": 4,
 "nbformat_minor": 5
}
